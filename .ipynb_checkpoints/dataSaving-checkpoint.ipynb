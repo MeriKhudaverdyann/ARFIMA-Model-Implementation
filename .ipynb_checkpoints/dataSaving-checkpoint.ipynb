{
 "cells": [
  {
   "cell_type": "code",
   "execution_count": null,
   "id": "5fb13e93-8c16-4e29-a6b7-4507b776a8d4",
   "metadata": {},
   "outputs": [],
   "source": [
    "import requests\n",
    "\n",
    "API_KEY = \"EV1O42UEGNYI9550\"\n",
    "\n",
    "symbol = \"AAPL\"  \n",
    "outputsize = \"full\" \n",
    "datatype = \"csv\"  \n",
    "\n",
    "url = f\"https://www.alphavantage.co/query?function=TIME_SERIES_DAILY&symbol={symbol}&outputsize={outputsize}&datatype={datatype}&apikey={API_KEY}\"\n",
    "\n",
    "response = requests.get(url)\n",
    "\n",
    "file_name = \"apple_daily_data.csv\"\n",
    "with open(file_name, \"wb\") as file:\n",
    "    file.write(response.content)\n",
    "\n",
    "print(f\"Data saved as {file_name}\")\n"
   ]
  }
 ],
 "metadata": {
  "kernelspec": {
   "display_name": "Python 3.9 (arfima)",
   "language": "python",
   "name": "arfima"
  },
  "language_info": {
   "codemirror_mode": {
    "name": "ipython",
    "version": 3
   },
   "file_extension": ".py",
   "mimetype": "text/x-python",
   "name": "python",
   "nbconvert_exporter": "python",
   "pygments_lexer": "ipython3",
   "version": "3.9.21"
  }
 },
 "nbformat": 4,
 "nbformat_minor": 5
}
