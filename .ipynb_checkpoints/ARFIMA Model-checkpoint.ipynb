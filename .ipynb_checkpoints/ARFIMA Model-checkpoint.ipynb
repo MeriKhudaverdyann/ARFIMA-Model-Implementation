{
 "cells": [
  {
   "cell_type": "code",
   "execution_count": 1,
   "id": "64632e37-7c03-4675-8516-50ae002e3d31",
   "metadata": {},
   "outputs": [
    {
     "name": "stdout",
     "output_type": "stream",
     "text": [
      "ARFIMA Forecast vs Actual:\n",
      "\n",
      "Day 1: Forecast = 256.28, Actual = 255.59\n",
      "Day 2: Forecast = 254.00, Actual = 252.20\n",
      "Day 3: Forecast = 250.69, Actual = 250.42\n",
      "Day 4: Forecast = 248.76, Actual = 250.42\n",
      "Day 5: Forecast = 247.10, Actual = 243.85\n",
      "Day 6: Forecast = 244.48, Actual = 243.36\n",
      "Day 7: Forecast = 242.21, Actual = 245.00\n",
      "Day 8: Forecast = 240.14, Actual = 242.21\n",
      "Day 9: Forecast = 240.53, Actual = 242.70\n",
      "Day 10: Forecast = 239.09, Actual = 242.70\n",
      "Day 11: Forecast = 239.53, Actual = 236.85\n",
      "Day 12: Forecast = 238.77, Actual = 234.40\n",
      "Day 13: Forecast = 238.18, Actual = 233.28\n",
      "Day 14: Forecast = 237.12, Actual = 237.87\n",
      "Day 15: Forecast = 233.77, Actual = 228.26\n",
      "Day 16: Forecast = 233.97, Actual = 229.98\n",
      "Day 17: Forecast = 234.96, Actual = 229.98\n",
      "Day 18: Forecast = 232.55, Actual = 222.64\n",
      "Day 19: Forecast = 231.06, Actual = 223.83\n",
      "Day 20: Forecast = 230.23, Actual = 223.66\n",
      "Day 21: Forecast = 229.24, Actual = 222.78\n",
      "Day 22: Forecast = 229.01, Actual = 229.86\n",
      "Day 23: Forecast = 228.01, Actual = 238.26\n",
      "Day 24: Forecast = 228.83, Actual = 239.36\n",
      "Day 25: Forecast = 227.70, Actual = 237.59\n",
      "Day 26: Forecast = 227.57, Actual = 236.00\n",
      "Day 27: Forecast = 226.74, Actual = 228.01\n",
      "Day 28: Forecast = 224.93, Actual = 232.80\n",
      "\n",
      "RMSE: 5.5239\n",
      "MAE: 4.4947\n"
     ]
    }
   ],
   "source": [
    "import pandas as pd\n",
    "import numpy as np\n",
    "import matplotlib.pyplot as plt\n",
    "from scipy.stats import levy_stable, norm\n",
    "from scipy.fft import fft, ifft\n",
    "from statsmodels.tsa.arima.model import ARIMA\n",
    "from scipy import stats\n",
    "import warnings\n",
    "import random\n",
    "\n",
    "warnings.filterwarnings(\"ignore\")\n",
    "\n",
    "SEED = 255\n",
    "np.random.seed(SEED)\n",
    "random.seed(SEED)\n",
    "\n",
    "df = pd.read_csv('apple_daily_data.csv')\n",
    "df['timestamp'] = pd.to_datetime(df['timestamp'])\n",
    "df.set_index('timestamp', inplace=True)\n",
    "df = df.sort_index()\n",
    "df = df.asfreq('B') \n",
    "df['close'] = df['close'].ffill()  \n",
    "\n",
    "def gph_estimate(series, m=None):\n",
    "    series = np.log(series + 1e-5) \n",
    "    n = len(series)\n",
    "    if m is None:\n",
    "        m = int(n ** 0.5)\n",
    "    freqs = 2 * np.pi * np.arange(1, m + 1) / n\n",
    "    periodogram = np.abs(fft(series - np.mean(series)))[:m+1]**2 / (2 * np.pi * n)\n",
    "    y = np.log(periodogram[1:m + 1])\n",
    "    x = np.log(4 * (np.sin(freqs / 2) ** 2))\n",
    "    slope, _, _, _, _ = stats.linregress(x, y)\n",
    "    d_estimate = -slope / 2\n",
    "    return d_estimate\n",
    "\n",
    "def _ma_model(params, n_points, *, noise_std=1, noise_alpha=2):\n",
    "    ma_order = len(params)\n",
    "    if noise_alpha == 2:\n",
    "        noise = norm.rvs(scale=noise_std, size=(n_points + ma_order), random_state=SEED)\n",
    "    else:\n",
    "        noise = levy_stable.rvs(noise_alpha, 0, scale=noise_std, size=(n_points + ma_order), random_state=SEED)\n",
    "    if ma_order == 0:\n",
    "        return noise\n",
    "    ma_coeffs = np.append([1], params)\n",
    "    ma_series = np.zeros(n_points)\n",
    "    for idx in range(ma_order, n_points + ma_order):\n",
    "        take_idx = np.arange(idx, idx - ma_order - 1, -1).astype(int)\n",
    "        ma_series[idx - ma_order] = np.dot(ma_coeffs, noise[take_idx])\n",
    "    return ma_series[ma_order:]\n",
    "\n",
    "def _arma_model(params, noise):\n",
    "    ar_order = len(params)\n",
    "    if ar_order == 0:\n",
    "        return noise\n",
    "    n_points = len(noise)\n",
    "    arma_series = np.zeros(n_points + ar_order)\n",
    "    for idx in np.arange(ar_order, len(arma_series)):\n",
    "        take_idx = np.arange(idx - 1, idx - ar_order - 1, -1).astype(int)\n",
    "        arma_series[idx] = np.dot(params, arma_series[take_idx]) + noise[idx - ar_order]\n",
    "    return arma_series[ar_order:]\n",
    "\n",
    "def _frac_diff(x, d):\n",
    "    def next_pow2(n):\n",
    "        return (n - 1).bit_length()\n",
    "    n_points = len(x)\n",
    "    fft_len = 2 ** next_pow2(2 * n_points - 1)\n",
    "    prod_ids = np.arange(1, n_points)\n",
    "    frac_diff_coefs = np.append([1], np.cumprod((prod_ids - d - 1) / prod_ids))\n",
    "    dx = ifft(fft(x, fft_len) * fft(frac_diff_coefs, fft_len))\n",
    "    return np.real(dx[0:n_points])\n",
    "\n",
    "def arfima(ar_params, d, ma_params, n_points, *, noise_std=1, noise_alpha=2, warmup=0):\n",
    "    ma_series = _ma_model(ma_params, n_points + warmup, noise_std=noise_std, noise_alpha=noise_alpha)\n",
    "    frac_ma = _frac_diff(ma_series, -d)\n",
    "    series = _arma_model(ar_params, frac_ma)\n",
    "    return series[-n_points:]\n",
    "\n",
    "def frac_diff(series, d, thresh=1e-5):\n",
    "    w = [1.]\n",
    "    k = 1\n",
    "    while True:\n",
    "        w_ = -w[-1] * (d - k + 1) / k\n",
    "        if abs(w_) < thresh:\n",
    "            break\n",
    "        w.append(w_)\n",
    "        k += 1\n",
    "    w = np.array(w[::-1]).reshape(-1, 1)\n",
    "    diff_series = np.zeros_like(series, dtype='float64')\n",
    "    for i in range(len(w), len(series)):\n",
    "        window = series[i - len(w):i]\n",
    "        diff_series[i] = np.dot(w.T, window)\n",
    "    return diff_series[len(w):]\n",
    "\n",
    "forecast_horizon = 30\n",
    "close_series_full = df[\"close\"].values\n",
    "train_series = close_series_full[:-forecast_horizon]\n",
    "test_series = close_series_full[-forecast_horizon:]\n",
    "\n",
    "d_est_train = gph_estimate(train_series)\n",
    "fd_train = frac_diff(train_series, d_est_train)\n",
    "\n",
    "aic_vals = []\n",
    "orders = [(p, q) for p in range(4) for q in range(4)]\n",
    "for p, q in orders:\n",
    "    try:\n",
    "        model = ARIMA(fd_train, order=(p, 0, q)).fit()\n",
    "        aic_vals.append((model.aic, p, q))\n",
    "    except:\n",
    "        continue\n",
    "\n",
    "_, best_p, best_q = sorted(aic_vals)[0]\n",
    "\n",
    "final_model = ARIMA(fd_train, order=(best_p, 0, best_q)).fit()\n",
    "ar_params = final_model.arparams.tolist()\n",
    "ma_params = final_model.maparams.tolist()\n",
    "\n",
    "forecast_train = arfima(ar_params, d_est_train, ma_params, forecast_horizon)\n",
    "\n",
    "forecast_rescaled_train = forecast_train + train_series[-1]\n",
    "\n",
    "min_len = min(len(forecast_rescaled_train), len(test_series))\n",
    "forecast_rescaled_train = forecast_rescaled_train[:min_len]\n",
    "test_series = test_series[:min_len]\n",
    "\n",
    "print(\"ARFIMA Forecast vs Actual:\\n\")\n",
    "for i in range(min_len):\n",
    "    print(f\"Day {i+1}: Forecast = {forecast_rescaled_train[i]:.2f}, Actual = {test_series[i]:.2f}\")\n",
    "\n",
    "from sklearn.metrics import mean_squared_error, mean_absolute_error\n",
    "rmse = np.sqrt(mean_squared_error(test_series, forecast_rescaled_train))\n",
    "mae = mean_absolute_error(test_series, forecast_rescaled_train)\n",
    "\n",
    "print(f\"\\nRMSE: {rmse:.4f}\")\n",
    "print(f\"MAE: {mae:.4f}\")\n"
   ]
  },
  {
   "cell_type": "code",
   "execution_count": 16,
   "id": "e6d02619-e203-4b0a-9109-cccd3f9cc226",
   "metadata": {},
   "outputs": [
    {
     "name": "stdout",
     "output_type": "stream",
     "text": [
      "RMSE Ratio: 3.2657%\n",
      "MAE Ratio: 2.2653%\n"
     ]
    }
   ],
   "source": [
    "mean_actual = np.mean(test_series)\n",
    "rmse_ratio = rmse / mean_actual\n",
    "mae_ratio = mae / mean_actual\n",
    "\n",
    "print(f\"RMSE Ratio: {rmse_ratio:.4%}\")\n",
    "print(f\"MAE Ratio: {mae_ratio:.4%}\")"
   ]
  },
  {
   "cell_type": "code",
   "execution_count": 10,
   "id": "f501122b-e617-4010-bc05-adf74e4dac0e",
   "metadata": {},
   "outputs": [
    {
     "data": {
      "image/png": "[encoded data removed]",
      "text/plain": [
       "<Figure size 1000x500 with 1 Axes>"
      ]
     },
     "metadata": {},
     "output_type": "display_data"
    }
   ],
   "source": [
    "x_test = range(len(train_series), len(train_series) + min_len)\n",
    "\n",
    "context_length = 1000\n",
    "x_context = range(len(train_series) - context_length, len(train_series))\n",
    "\n",
    "plt.figure(figsize=(10, 5))\n",
    "plt.plot(x_context, train_series[-context_length:], label=\"Training Data\", color='gray')\n",
    "plt.plot(x_test, test_series, label=\"Actual\", color='blue')\n",
    "plt.plot(x_test, forecast_rescaled_train, label=\"Forecast\", color='red', linestyle='--')\n",
    "\n",
    "plt.xlim(len(train_series) - context_length, len(train_series) + min_len)\n",
    "\n",
    "plt.title(\"ARFIMA Forecast vs Actual\")\n",
    "plt.legend()\n",
    "plt.tight_layout()\n",
    "plt.show()\n"
   ]
  },
  {
   "cell_type": "code",
   "execution_count": 11,
   "id": "5fbdc6e6-0ac6-4ce2-b782-7aca71392b18",
   "metadata": {},
   "outputs": [],
   "source": [
    "close_series = df[\"close\"].values\n",
    "d_est = gph_estimate(close_series)\n",
    "fd_close = frac_diff(close_series, d_est)\n",
    "\n",
    "aic_vals = []\n",
    "orders = [(p, q) for p in range(4) for q in range(4)]\n",
    "for p, q in orders:\n",
    "    try:\n",
    "        model = ARIMA(fd_close, order=(p, 0, q)).fit()\n",
    "        aic_vals.append((model.aic, p, q))\n",
    "    except:\n",
    "        continue\n",
    "\n",
    "_, best_p, best_q = sorted(aic_vals)[0]\n",
    "final_model = ARIMA(fd_close, order=(best_p, 0, best_q)).fit()\n",
    "ar_params = final_model.arparams.tolist()\n",
    "ma_params = final_model.maparams.tolist()"
   ]
  },
  {
   "cell_type": "code",
   "execution_count": 10,
   "id": "5260761c-2c60-4b6d-8cae-6c5ebaa42ee3",
   "metadata": {},
   "outputs": [
    {
     "data": {
      "text/plain": [
       "0.513291633568585"
      ]
     },
     "execution_count": 10,
     "metadata": {},
     "output_type": "execute_result"
    }
   ],
   "source": [
    "d_est"
   ]
  },
  {
   "cell_type": "code",
   "execution_count": 11,
   "id": "055b012e-468e-4052-bdad-e9a5335648c2",
   "metadata": {},
   "outputs": [
    {
     "data": {
      "text/plain": [
       "array([-0.13244398, -0.19755302, -0.18997877, ..., -2.28108931,\n",
       "        6.63458131,  4.81036737])"
      ]
     },
     "execution_count": 11,
     "metadata": {},
     "output_type": "execute_result"
    }
   ],
   "source": [
    "fd_close"
   ]
  },
  {
   "cell_type": "code",
   "execution_count": 12,
   "id": "918112ce-ea97-480e-808a-7120ff23f0d3",
   "metadata": {},
   "outputs": [
    {
     "name": "stdout",
     "output_type": "stream",
     "text": [
      "Estimated d: 0.513291633568585\n",
      "Best AR order: 3\n",
      "Best MA order: 2\n",
      "Forecast (next 30 values):\n",
      "[ -2.14244849  -4.41036787  -4.87715892  -6.13197539  -8.55227546\n",
      "  -9.85400529 -12.06682384 -14.18364832 -15.49183818 -18.86615118\n",
      " -21.94788318 -23.77185396 -25.97474892 -26.76926306 -28.70690227\n",
      " -31.06247057 -30.45483031 -31.4903182  -32.16951227 -34.27405675\n",
      " -35.44074981 -35.91396631 -37.62404743 -37.76535817 -38.85242729\n",
      " -39.59740507 -40.61798432 -39.15596722]\n"
     ]
    }
   ],
   "source": [
    "forecast_horizon = 30\n",
    "forecast = arfima(ar_params, d_est, ma_params, forecast_horizon)\n",
    "forecast_rescaled = forecast + close_series[-1]\n",
    "\n",
    "print(\"Estimated d:\", d_est)\n",
    "print(\"Best AR order:\", best_p)\n",
    "print(\"Best MA order:\", best_q)\n",
    "print(\"Forecast (next 30 values):\")\n",
    "print(forecast)"
   ]
  },
  {
   "cell_type": "code",
   "execution_count": 13,
   "id": "4ec5d5c9-33b9-46b8-adaa-18a731180e37",
   "metadata": {},
   "outputs": [
    {
     "data": {
      "text/plain": [
       "array([231.07755151, 228.80963213, 228.34284108, 227.08802461,\n",
       "       224.66772454, 223.36599471, 221.15317616, 219.03635168,\n",
       "       217.72816182, 214.35384882, 211.27211682, 209.44814604,\n",
       "       207.24525108, 206.45073694, 204.51309773, 202.15752943,\n",
       "       202.76516969, 201.7296818 , 201.05048773, 198.94594325,\n",
       "       197.77925019, 197.30603369, 195.59595257, 195.45464183,\n",
       "       194.36757271, 193.62259493, 192.60201568, 194.06403278])"
      ]
     },
     "execution_count": 13,
     "metadata": {},
     "output_type": "execute_result"
    }
   ],
   "source": [
    "forecast_rescaled"
   ]
  },
  {
   "cell_type": "code",
   "execution_count": 14,
   "id": "2abd31c3-44b5-409a-b695-fa8610af8164",
   "metadata": {},
   "outputs": [],
   "source": [
    "future_dates = pd.date_range(df.index[-1], periods=29, freq='B')[1:]\n",
    "dff = pd.DataFrame(forecast_rescaled, index=future_dates, columns=['forecast'])\n",
    "dff.to_csv('forecasted.csv')"
   ]
  },
  {
   "cell_type": "code",
   "execution_count": null,
   "id": "5abd7b09-a059-46cc-8d3b-83916f99a26b",
   "metadata": {},
   "outputs": [],
   "source": []
  }
 ],
 "metadata": {
  "kernelspec": {
   "display_name": "Python 3.9 (arfima)",
   "language": "python",
   "name": "arfima"
  },
  "language_info": {
   "codemirror_mode": {
    "name": "ipython",
    "version": 3
   },
   "file_extension": ".py",
   "mimetype": "text/x-python",
   "name": "python",
   "nbconvert_exporter": "python",
   "pygments_lexer": "ipython3",
   "version": "3.9.21"
  }
 },
 "nbformat": 4,
 "nbformat_minor": 5
}
